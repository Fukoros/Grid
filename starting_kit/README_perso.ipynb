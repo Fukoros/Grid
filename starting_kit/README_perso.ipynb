{
 "cells": [
  {
   "cell_type": "markdown",
   "metadata": {},
   "source": [
    "<div style=\"background:#FFFFAA\">\n",
    "<img src=\"./logo.jpg\", width=150, ALIGN=\"left\", border=20>\n",
    "<h1>L2RPN Starting Kit </h1> \n",
    "\n",
    "<br>This code was tested with <br>\n",
    "Python 3.6.6 |Anaconda custom (64-bit)| (default, Nov 2018, 11:07:29) (https://anaconda.org/)<br>\n",
    "<i> Adapted for Chalab by Isabelle Guyon from original code of Balázs Kégl</i> <br>\n",
    "<a href=\"http://www.datascience-paris-saclay.fr\">Paris Saclay Center for Data Science (CDS)</a>\n",
    "</center>\n",
    "<p>\n",
    "ALL INFORMATION, SOFTWARE, DOCUMENTATION, AND DATA ARE PROVIDED \"AS-IS\". The CDS, CHALEARN, AND/OR OTHER ORGANIZERS OR CODE AUTHORS DISCLAIM ANY EXPRESSED OR IMPLIED WARRANTIES, INCLUDING, BUT NOT LIMITED TO, THE IMPLIED WARRANTIES OF MERCHANTABILITY AND FITNESS FOR ANY PARTICULAR PURPOSE, AND THE WARRANTY OF NON-INFRIGEMENT OF ANY THIRD PARTY'S INTELLECTUAL PROPERTY RIGHTS. IN NO EVENT SHALL AUTHORS AND ORGANIZERS BE LIABLE FOR ANY SPECIAL, \n",
    "INDIRECT OR CONSEQUENTIAL DAMAGES OR ANY DAMAGES WHATSOEVER ARISING OUT OF OR IN CONNECTION WITH THE USE OR PERFORMANCE OF SOFTWARE, DOCUMENTS, MATERIALS, PUBLICATIONS, OR INFORMATION MADE AVAILABLE FOR THE CHALLENGE. \n",
    "</div>"
   ]
  },
  {
   "cell_type": "markdown",
   "metadata": {},
   "source": [
    "<div style=\"background:#FFFFAA\">\n",
    "    <h2>Introduction </h2>\n",
    "    <p> \n",
    "     <br>\n",
    "The goal of this challenge is to use Reinforcement Learning in Power Grid management by designing RL agents to automate the control of the power grid. The dataset used in this challenge is from <a href=\"https://github.com/MarvinLer/pypownet\">pypownet</a>, made by Marvin Lerousseau, it is a simulator that is able to emulate a power grid of any size and electrical properties subject to a set of temporal injections for discretized time-steps.\n",
    "\n",
    "References and credits: <br>\n",
    "Founder of pypownet was Marvin Lerousseau. The competition protocol was designed by Isabelle Guyon. Our mentors are Balthazar Donon and Antoine Marot. Pypownet, 2017. https://github.com/MarvinLer/pypownet. The baseline methods were inspired by work performed by Kimang Khun.\n",
    " <br> \n",
    "</div>"
   ]
  },
  {
   "cell_type": "code",
   "execution_count": 22,
   "metadata": {},
   "outputs": [
    {
     "name": "stdout",
     "output_type": "stream",
     "text": [
      "The autoreload extension is already loaded. To reload it, use:\n",
      "  %reload_ext autoreload\n"
     ]
    }
   ],
   "source": [
    "model_dir = 'example_submission/'\n",
    "problem_dir = 'ingestion_program/'  \n",
    "score_dir = 'scoring_program/'\n",
    "input_dir = 'public_data/'\n",
    "output_dir = 'output/'\n",
    "from sys import path; path.append(model_dir); path.append(problem_dir); path.append(score_dir);\n",
    "path.append(input_dir); path.append(output_dir);\n",
    "%matplotlib inline\n",
    "# Uncomment the next lines to auto-reload libraries (this causes some problem with pickles in Python 3)\n",
    "%load_ext autoreload\n",
    "%autoreload 2\n",
    "import seaborn as sns; sns.set()\n",
    "import warnings\n",
    "warnings.simplefilter(action='ignore', category=FutureWarning)"
   ]
  },
  {
   "cell_type": "markdown",
   "metadata": {},
   "source": [
    "\n",
    "<div style=\"background:#FFFFAA\">\n",
    "    <h1> Step 1: Exploratory data analysis </h1>\n",
    "<p>\n",
    "We provide data with the starting kit.\n",
    "    <br>\n",
    "</div>"
   ]
  },
  {
   "cell_type": "markdown",
   "metadata": {},
   "source": [
    "## Electrical grid\n",
    "<div >\n",
    "<img src=\"./ExampleGrid.JPG\", width=750, ALIGN=\"left\", border=20>\n",
    "    <br>\n",
    "    <br>\n",
    "(courtesy of Marvin Lerousseau)\n",
    "</div>"
   ]
  },
  {
   "cell_type": "markdown",
   "metadata": {},
   "source": [
    "During the challenge, a grid of 14 substations is given. 20 lines connected the nodes of the network.\n",
    "\n",
    "For the following example, we take the case where there are 11 loads and 5 prods and particularly the hard level. Furthermore, the information shown are only those of January."
   ]
  },
  {
   "cell_type": "code",
   "execution_count": 23,
   "metadata": {},
   "outputs": [
    {
     "name": "stdout",
     "output_type": "stream",
     "text": [
      "chronics  configuration.yaml  reference_grid.m\r\n"
     ]
    }
   ],
   "source": [
    "data_dir = 'public_data/hard'              # Change this to the directory where you put the input data\n",
    "!ls $data_dir*"
   ]
  },
  {
   "cell_type": "markdown",
   "metadata": {},
   "source": [
    "For convenience, we load the data as a \"pandas\" data frame, so we can use \"pandas\" to explore the data."
   ]
  },
  {
   "cell_type": "markdown",
   "metadata": {},
   "source": [
    "<div style=\"background:#FFFFAA\">\n",
    "<h1>Step 2: Building an Agent</h1>\n",
    "</div>"
   ]
  },
  {
   "cell_type": "markdown",
   "metadata": {},
   "source": [
    "<div style=\"background:#FFFFAA\">\n",
    "    <h2>Loading data with pypownet</h2>\n",
    "    <p>\n",
    "We reload the data with the environment class of pypownet\n",
    "   <br>\n",
    "    \n",
    "To win, flows in a line have to stay under a threshold. Above this threshold, the line will overheat and after a certain amount of overheating, the line will break. Thermal limits are already defined in pypownet.\n",
    "</div>"
   ]
  },
  {
   "cell_type": "code",
   "execution_count": 24,
   "metadata": {},
   "outputs": [
    {
     "name": "stdout",
     "output_type": "stream",
     "text": [
      "\n",
      "  ====================================================\n",
      "                     GAME PARAMETERS\n",
      "  ====================================================\n",
      "    loadflow_backend: pypower\n",
      "    loadflow_mode: AC\n",
      "    n_timesteps_consecutive_soft_overflow_breaks: 10\n",
      "    n_timesteps_hard_overflow_is_broken: 10\n",
      "    n_timesteps_horizon_maintenance: 48\n",
      "    max_number_loads_game_over: 6\n",
      "    hard_overflow_coefficient: 1.0\n",
      "    n_timesteps_soft_overflow_is_broken: 10\n",
      "    max_seconds_per_timestep: 1.0\n",
      "    max_number_prods_game_over: 3\n",
      "  ====================================================\n",
      "\n"
     ]
    }
   ],
   "source": [
    "import os\n",
    "import pypownet.environment\n",
    "import pypownet.runner\n",
    "data_dir = 'public_data'  \n",
    "environment = pypownet.environment.RunEnv(parameters_folder=os.path.abspath(data_dir),\n",
    "                                              game_level=\"hard\",\n",
    "                                              chronic_looping_mode='natural', start_id=0,\n",
    "                                              game_over_mode=\"soft\")"
   ]
  },
  {
   "cell_type": "markdown",
   "metadata": {},
   "source": [
    "<div style=\"background:#FFFFAA\">\n",
    "    <h2>Building an agent</h2>\n",
    "    <p>\n",
    "We provide examples of agent (for reinforcement learning) in the `starting-kit/example_submission` directory. It is a quite stupid agent: it does nothing. Replace it with your own agent.\n",
    "    </div>"
   ]
  },
  {
   "cell_type": "markdown",
   "metadata": {},
   "source": [
    "## Scoring the results of an agent\n",
    "\n",
    "<div style=\"background:#FFFFAA\">\n",
    "    <br>\n",
    "    <p>\n",
    "<b>The metric chosen for your challenge</b> is identified in the \"metric.txt\" file found in the `scoring_function/` directory. The function \"get_metric\" searches first for a metric having that name in my_metric.py, then in libscores.py, then in sklearn.metric.\n",
    "    <br>\n",
    "The aim of a reinforcement learning problem is to maximize the reward function.\n",
    "\n",
    "When running the agent, two values are given back : the first one is the reward of the last timestep and the second one is the cumulative reward for all the iterations of the run of the agent. The reward indicates if the game is going towards a game over or not.\n",
    "\n",
    "Specifically, our reward function is composed of 5 subrewards. They describe the proportion of isolated productions, loads, the cost of an action, an indication of the amount of changes between the current grid and the initial grid and lastly information on the lines capacity usage. \n",
    "    </div>"
   ]
  },
  {
   "cell_type": "code",
   "execution_count": 25,
   "metadata": {},
   "outputs": [
    {
     "name": "stdout",
     "output_type": "stream",
     "text": [
      "Using scoring metric: reward\n"
     ]
    }
   ],
   "source": [
    "from scoring_program import libscores\n",
    "from libscores import get_metric\n",
    "metric_name, scoring_function = get_metric()\n",
    "print('Using scoring metric:', metric_name)\n",
    "# Uncomment the next line to display the code of the scoring metric\n",
    "#??scoring_function"
   ]
  },
  {
   "cell_type": "code",
   "execution_count": 26,
   "metadata": {},
   "outputs": [
    {
     "name": "stdout",
     "output_type": "stream",
     "text": [
      "3.123283386230469e-05\n"
     ]
    }
   ],
   "source": [
    "import time\n",
    "start = time.time()\n",
    "end = time.time()\n",
    "print(end-start)"
   ]
  },
  {
   "cell_type": "code",
   "execution_count": 27,
   "metadata": {},
   "outputs": [],
   "source": [
    "class CustomAgent(pypownet.agent.Agent):\n",
    "    \"\"\"\n",
    "    An example of a baseline controler that randomly switches the status of one random power line per timestep (if the\n",
    "    random line is previously online, switch it off, otherwise switch it on).\n",
    "    \"\"\"\n",
    "    def __init__(self, environment):\n",
    "        super().__init__(environment)\n",
    "    \n",
    "    def act(self, observation):\n",
    "        \"\"\" Produces an action given an observation of the environment. Takes as argument an observation of the current\n",
    "        power grid, and returns the chosen action.\"\"\"\n",
    "        # Sanity check: an observation is a structured object defined in the environment file.\n",
    "        assert isinstance(observation, pypownet.environment.Observation)\n",
    "        #print(\" DO NOTHING AGENT !!! \")\n",
    "        action_space = self.environment.action_space\n",
    "\n",
    "        # Implement your policy here\n",
    "        # Example of the do-nothing policy that produces no action (i.e. an action that does nothing) each time\n",
    "        do_nothing_action = action_space.get_do_nothing_action()\n",
    "\n",
    "        # Sanity check: verify the good overall structure of the returned action; raises exceptions if not valid\n",
    "        assert action_space.verify_action_shape(do_nothing_action)\n",
    "        return do_nothing_action\n",
    "\n",
    "        # No learning (i.e. self.feed_reward does pass)"
   ]
  },
  {
   "cell_type": "code",
   "execution_count": 28,
   "metadata": {
    "scrolled": true
   },
   "outputs": [
    {
     "name": "stdout",
     "output_type": "stream",
     "text": [
      "cumulative rewards : -362.6689729381084\n",
      "12.930731534957886\n"
     ]
    }
   ],
   "source": [
    "import logging\n",
    "import sys\n",
    "import time\n",
    "start = time.time()\n",
    "NUMBER_ITERATIONS = 1000\n",
    "\n",
    "submission_dir = 'example_submission'\n",
    "sys.path.append(submission_dir)\n",
    "\n",
    "if not os.path.exists(output_dir):\n",
    "    os.makedirs(output_dir)\n",
    "log_path = os.path.abspath(os.path.join(output_dir, 'runner.log'))\n",
    "\n",
    "\n",
    "open(log_path, 'w').close()\n",
    "submitted_controler = CustomAgent(environment)\n",
    "# Instanciate a runner, that will save the run statistics within the log_path file, to be parsed and processed\n",
    "# by the scoring program\n",
    "phase_runner = pypownet.runner.Runner(environment, submitted_controler, verbose=True, vverbose=False,\n",
    "                                      log_filepath=log_path)\n",
    "phase_runner.ch.setLevel(logging.ERROR)\n",
    "# Run the planned experiment of this phase with the submitted model\n",
    "score = phase_runner.loop(iterations=NUMBER_ITERATIONS)\n",
    "print(\"cumulative rewards : {}\".format(score))\n",
    "end = time.time()\n",
    "print(end-start)"
   ]
  },
  {
   "cell_type": "markdown",
   "metadata": {},
   "source": [
    "<div style=\"background:#FFFFAA\">\n",
    "    <b> Save the best agent </b> it should be a class Submission and save in \"example_submission/submission.py\".  Uncomment the line <i>%%writefile example_submission/submission.py to save the agent. </i>\n",
    "</div>"
   ]
  },
  {
   "cell_type": "code",
   "execution_count": 29,
   "metadata": {},
   "outputs": [],
   "source": [
    "#%%writefile example_submission/submission.py\n",
    "import pypownet.agent\n",
    "import pypownet.environment\n",
    "import numpy as np\n",
    "import os\n",
    "\n",
    "class Submission(pypownet.agent.Agent):\n",
    "    \"\"\"\n",
    "    An example of a baseline controler that randomly switches the status of one random power line per timestep (if the\n",
    "    random line is previously online, switch it off, otherwise switch it on).\n",
    "    \"\"\"\n",
    "\n",
    "    def __init__(self, environment):\n",
    "        super().__init__(environment)\n",
    "        self.verbose = True\n",
    "\n",
    "    def act(self, observation):\n",
    "        # Sanity check: an observation is a structured object defined in the environment file.\n",
    "        assert isinstance(observation, pypownet.environment.Observation)\n",
    "        action_space = self.environment.action_space\n",
    "\n",
    "        # Create template of action with no switch activated (do-nothing action)\n",
    "        action = action_space.get_do_nothing_action()\n",
    "\n",
    "        # Select lines to switch\n",
    "        if True :\n",
    "            lines_load = observation.get_lines_capacity_usage()\n",
    "            nb_lines = len(lines_load)\n",
    "            assert nb_lines == action_space.lines_status_subaction_length\n",
    "            for i in range(nb_lines):\n",
    "                lines_status = action_space.get_lines_status_switch_from_id(action,i)\n",
    "                if lines_status == 0:\n",
    "                    action_space.set_lines_status_switch_from_id(action=action,line_id=i,new_switch_value=0)\n",
    "                if lines_load[i] > 1:\n",
    "                    action_space.set_lines_status_switch_from_id(action=action,line_id=i,new_switch_value=1)\n",
    "                    action_name = 'switching status of line %d' % i\n",
    "                    if self.verbose:\n",
    "                        print('Action chosen: ', action_name, '; expected reward %.4f' % reward)\n",
    "\n",
    "\n",
    "        # Test the reward on the environment\n",
    "        reward_aslist = self.environment.simulate(action, do_sum=False)\n",
    "        reward = sum(reward_aslist)\n",
    "        if self.verbose:\n",
    "            print('reward: [', ', '.join(['%.2f' % c for c in reward_aslist]), '] =', reward)\n",
    "\n",
    "\n",
    "        return action\n",
    "\n",
    "        # No learning (i.e. self.feed_reward does pass)"
   ]
  },
  {
   "cell_type": "markdown",
   "metadata": {},
   "source": [
    "\n",
    "<div style=\"background:#FFFFAA\">\n",
    "<h1> Step 3: Making a submission </h1> \n",
    "\n",
    "<h2> Unit testing </h2> \n",
    "\n",
    "It is <b><span style=\"color:red\">important that you test your submission files before submitting them</span></b>. All you have to do to make a submission is modify the file <code>submission.py</code> in the <code>starting_kit/example_submission/</code> directory, then run this test to make sure everything works fine. This is the actual program that will be run on the server to test your submission. \n",
    "<br>\n",
    "Keep the sample code simple.\n",
    "</div>"
   ]
  },
  {
   "cell_type": "code",
   "execution_count": 30,
   "metadata": {
    "scrolled": true
   },
   "outputs": [
    {
     "name": "stdout",
     "output_type": "stream",
     "text": [
      "input dir: /home/tp-home010/nbereux/projects/Grid/starting_kit/public_data\n",
      "output dir: /home/tp-home010/nbereux/projects/Grid/starting_kit/public_data/res\n",
      "program dir: /home/tp-home010/nbereux/projects/Grid/starting_kit/ingestion_program\n",
      "submission dir: /home/tp-home010/nbereux/projects/Grid/starting_kit/example_submission\n",
      "input content ['__pycache__', 'easy', 'hard', 'level0', 'medium', 'res', 'reward_signal.py']\n",
      "output content ['runner.log']\n",
      "program content ['__pycache__', 'data_converter.py', 'data_io.py', 'data_manager.py', 'ingestion.py', 'metadata']\n",
      "submission content ['metadata', '__pycache__', 'baseline_agents.py', 'my_agents.py', 'preprocessing.py', 'submission.py', 'saved_actions.csv', 'saved_rewards.csv', 'saved_states.csv']\n",
      "Using custom reward signal CustomRewardSignal of file /home/tp-home010/nbereux/projects/Grid/starting_kit/public_data/reward_signal.py\n",
      "\n",
      "  ====================================================\n",
      "                     GAME PARAMETERS\n",
      "  ====================================================\n",
      "    loadflow_mode: AC\n",
      "    n_timesteps_horizon_maintenance: 48\n",
      "    n_timesteps_consecutive_soft_overflow_breaks: 10\n",
      "    max_seconds_per_timestep: 1.0\n",
      "    n_timesteps_hard_overflow_is_broken: 10\n",
      "    hard_overflow_coefficient: 1.0\n",
      "    n_timesteps_soft_overflow_is_broken: 10\n",
      "    loadflow_backend: pypower\n",
      "    max_number_loads_game_over: 6\n",
      "    max_number_prods_game_over: 3\n",
      "  ====================================================\n",
      "\n",
      "Traceback (most recent call last):\n",
      "  File \"ingestion_program//ingestion.py\", line 58, in main\n",
      "    submitted_controler = submission.Submission(environment)\n",
      "  File \"/home/tp-home010/nbereux/projects/Grid/starting_kit/example_submission/submission.py\", line 23, in __init__\n",
      "    prepro = preprocessing.Preprocessing(\"program/saved_actions.csv\",\"program/saved_states.csv\",\"program/saved_rewards.csv\")\n",
      "  File \"/home/tp-home010/nbereux/projects/Grid/starting_kit/example_submission/preprocessing.py\", line 22, in __init__\n",
      "    with open(actions_file) as csv_file:\n",
      "FileNotFoundError: [Errno 2] No such file or directory: 'program/saved_actions.csv'\n",
      "\n",
      "During handling of the above exception, another exception occurred:\n",
      "\n",
      "Traceback (most recent call last):\n",
      "  File \"ingestion_program//ingestion.py\", line 82, in <module>\n",
      "    main()\n",
      "  File \"ingestion_program//ingestion.py\", line 60, in main\n",
      "    raise Exception('Did not find a class named Submission within submission.py; your submission controler should'\n",
      "Exception: Did not find a class named Submission within submission.py; your submission controler should be a class named Submission in submission.py file directly within the ZIP submission file.\n"
     ]
    }
   ],
   "source": [
    "!python $problem_dir/ingestion.py $input_dir $input_dir/res $problem_dir $model_dir"
   ]
  },
  {
   "cell_type": "markdown",
   "metadata": {},
   "source": [
    "\n",
    "<div style=\"background:#FFFFAA\">\n",
    "Also test the scoring program:\n",
    "    </div>"
   ]
  },
  {
   "cell_type": "code",
   "execution_count": 31,
   "metadata": {},
   "outputs": [
    {
     "name": "stdout",
     "output_type": "stream",
     "text": [
      "public_data/\r\n",
      "output\r\n",
      "step : 8, cumulative rewards : -1.59\r\n"
     ]
    }
   ],
   "source": [
    "scoring_output_dir = 'output'\n",
    "!python $score_dir/evaluate.py $input_dir $scoring_output_dir"
   ]
  },
  {
   "cell_type": "markdown",
   "metadata": {
    "collapsed": true
   },
   "source": [
    "<div style=\"background:#FFFFAA\">\n",
    "    <h1> Preparing the submission </h1>\n",
    "\n",
    "Zip the contents of `sample_code_submission/` (without the directory), or download the challenge public_data and run the command in the previous cell, after replacing sample_data by public_data.\n",
    "Then zip the contents of `sample_result_submission/` (without the directory).\n",
    "<b><span style=\"color:red\">Do NOT zip the data with your submissions</span></b>."
   ]
  },
  {
   "cell_type": "code",
   "execution_count": 32,
   "metadata": {},
   "outputs": [
    {
     "name": "stdout",
     "output_type": "stream",
     "text": [
      "Submit one of these files:\n",
      "sample_code_submission_19-04-12-09-34.zip\n",
      "\n"
     ]
    }
   ],
   "source": [
    "import datetime \n",
    "from data_io import zipdir\n",
    "the_date = datetime.datetime.now().strftime(\"%y-%m-%d-%H-%M\")\n",
    "sample_code_submission = 'sample_code_submission_' + the_date + '.zip' \n",
    "zipdir(sample_code_submission, model_dir) \n",
    "print(\"Submit one of these files:\\n\" + sample_code_submission + \"\\n\")"
   ]
  },
  {
   "cell_type": "code",
   "execution_count": null,
   "metadata": {},
   "outputs": [],
   "source": []
  },
  {
   "cell_type": "code",
   "execution_count": null,
   "metadata": {},
   "outputs": [],
   "source": []
  }
 ],
 "metadata": {
  "kernelspec": {
   "display_name": "Python 3",
   "language": "python",
   "name": "python3"
  },
  "language_info": {
   "codemirror_mode": {
    "name": "ipython",
    "version": 3
   },
   "file_extension": ".py",
   "mimetype": "text/x-python",
   "name": "python",
   "nbconvert_exporter": "python",
   "pygments_lexer": "ipython3",
   "version": "3.5.2"
  }
 },
 "nbformat": 4,
 "nbformat_minor": 1
}
